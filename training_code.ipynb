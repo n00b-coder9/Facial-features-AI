{
 "cells": [
  {
   "cell_type": "code",
   "execution_count": 25,
   "id": "young-facility",
   "metadata": {},
   "outputs": [],
   "source": [
    "import numpy as np\n",
    "import pandas as pd\n",
    "import os\n",
    "import torch\n",
    "import fastai\n",
    "from fastai.tabular.all import *\n",
    "from fastai.text.all import *\n",
    "from fastai.vision.all import *\n",
    "from fastai.medical.imaging import *\n",
    "from fastai import *\n",
    "from fastai.vision import *\n",
    "import matplotlib.pyplot as plt\n",
    "pd.set_option('display.max_columns', 500)"
   ]
  },
  {
   "cell_type": "code",
   "execution_count": 12,
   "id": "failing-european",
   "metadata": {},
   "outputs": [],
   "source": [
    "\n",
    "%reload_ext autoreload\n",
    "%autoreload 2\n",
    "%matplotlib inline"
   ]
  },
  {
   "cell_type": "code",
   "execution_count": 23,
   "id": "spare-satellite",
   "metadata": {},
   "outputs": [
    {
     "name": "stdout",
     "output_type": "stream",
     "text": [
      "Collecting scikit-image\n",
      "  Downloading scikit_image-0.18.1-cp37-cp37m-win_amd64.whl (12.1 MB)\n",
      "Requirement already satisfied: scipy>=1.0.1 in c:\\users\\faiz\\appdata\\local\\programs\\python\\python37\\lib\\site-packages (from scikit-image) (1.3.1)\n",
      "Collecting imageio>=2.3.0\n",
      "  Downloading imageio-2.9.0-py3-none-any.whl (3.3 MB)\n",
      "Collecting PyWavelets>=1.1.1\n",
      "  Downloading PyWavelets-1.1.1-cp37-cp37m-win_amd64.whl (4.2 MB)\n",
      "Requirement already satisfied: matplotlib!=3.0.0,>=2.0.0 in c:\\users\\faiz\\appdata\\local\\programs\\python\\python37\\lib\\site-packages (from scikit-image) (3.1.1)\n",
      "Requirement already satisfied: numpy>=1.16.5 in c:\\users\\faiz\\appdata\\local\\programs\\python\\python37\\lib\\site-packages (from scikit-image) (1.17.0)\n",
      "Collecting networkx>=2.0\n",
      "  Downloading networkx-2.5-py3-none-any.whl (1.6 MB)\n",
      "Requirement already satisfied: pillow!=7.1.0,!=7.1.1,>=4.3.0 in c:\\users\\faiz\\appdata\\local\\programs\\python\\python37\\lib\\site-packages (from scikit-image) (8.1.0)\n",
      "Collecting tifffile>=2019.7.26\n",
      "  Downloading tifffile-2021.3.5-py3-none-any.whl (162 kB)\n",
      "Requirement already satisfied: pyparsing!=2.0.4,!=2.1.2,!=2.1.6,>=2.0.1 in c:\\users\\faiz\\appdata\\local\\programs\\python\\python37\\lib\\site-packages (from matplotlib!=3.0.0,>=2.0.0->scikit-image) (2.4.2)\n",
      "Requirement already satisfied: kiwisolver>=1.0.1 in c:\\users\\faiz\\appdata\\local\\programs\\python\\python37\\lib\\site-packages (from matplotlib!=3.0.0,>=2.0.0->scikit-image) (1.1.0)\n",
      "Requirement already satisfied: python-dateutil>=2.1 in c:\\users\\faiz\\appdata\\local\\programs\\python\\python37\\lib\\site-packages (from matplotlib!=3.0.0,>=2.0.0->scikit-image) (2.8.0)\n",
      "Requirement already satisfied: cycler>=0.10 in c:\\users\\faiz\\appdata\\local\\programs\\python\\python37\\lib\\site-packages (from matplotlib!=3.0.0,>=2.0.0->scikit-image) (0.10.0)\n",
      "Requirement already satisfied: six in c:\\users\\faiz\\appdata\\local\\programs\\python\\python37\\lib\\site-packages (from cycler>=0.10->matplotlib!=3.0.0,>=2.0.0->scikit-image) (1.12.0)\n",
      "Requirement already satisfied: setuptools in c:\\users\\faiz\\appdata\\local\\programs\\python\\python37\\lib\\site-packages (from kiwisolver>=1.0.1->matplotlib!=3.0.0,>=2.0.0->scikit-image) (40.8.0)\n",
      "Requirement already satisfied: decorator>=4.3.0 in c:\\users\\faiz\\appdata\\local\\programs\\python\\python37\\lib\\site-packages (from networkx>=2.0->scikit-image) (4.4.2)\n",
      "Installing collected packages: tifffile, PyWavelets, networkx, imageio, scikit-image\n",
      "Successfully installed PyWavelets-1.1.1 imageio-2.9.0 networkx-2.5 scikit-image-0.18.1 tifffile-2021.3.5\n"
     ]
    }
   ],
   "source": [
    "!pip install scikit-image"
   ]
  },
  {
   "cell_type": "code",
   "execution_count": 26,
   "id": "olive-classification",
   "metadata": {},
   "outputs": [],
   "source": [
    "path = Path('./data/faces/')"
   ]
  },
  {
   "cell_type": "code",
   "execution_count": 27,
   "id": "mexican-grove",
   "metadata": {},
   "outputs": [],
   "source": [
    "## Function to filter validation samples\n",
    "def validation_func(x):\n",
    "    return 'validation' in x"
   ]
  },
  {
   "cell_type": "code",
   "execution_count": 30,
   "id": "necessary-hamburg",
   "metadata": {},
   "outputs": [],
   "source": [
    "tfms = aug_transforms(do_flip=False, flip_vert=False, max_rotate=30, max_lighting=0.3)"
   ]
  },
  {
   "cell_type": "code",
   "execution_count": 31,
   "id": "arabic-missile",
   "metadata": {},
   "outputs": [
    {
     "ename": "NameError",
     "evalue": "name 'ImageItemList' is not defined",
     "output_type": "error",
     "traceback": [
      "\u001b[1;31m---------------------------------------------------------------------------\u001b[0m",
      "\u001b[1;31mNameError\u001b[0m                                 Traceback (most recent call last)",
      "\u001b[1;32m<ipython-input-31-9088d96c05cb>\u001b[0m in \u001b[0;36m<module>\u001b[1;34m\u001b[0m\n\u001b[1;32m----> 1\u001b[1;33m src = (ImageItemList.from_csv(path, csv_name='annoitation.csv')\n\u001b[0m\u001b[0;32m      2\u001b[0m        \u001b[1;33m.\u001b[0m\u001b[0msplit_by_valid_func\u001b[0m\u001b[1;33m(\u001b[0m\u001b[0mvalidation_func\u001b[0m\u001b[1;33m)\u001b[0m\u001b[1;33m\u001b[0m\u001b[1;33m\u001b[0m\u001b[0m\n\u001b[0;32m      3\u001b[0m        .label_from_df(cols='tags',label_delim=' '))\n\u001b[0;32m      4\u001b[0m \u001b[1;33m\u001b[0m\u001b[0m\n\u001b[0;32m      5\u001b[0m data = (src.transform(tfms, size=128)\n",
      "\u001b[1;31mNameError\u001b[0m: name 'ImageItemList' is not defined"
     ]
    }
   ],
   "source": [
    "src = (ImageItemList.from_csv(path, csv_name='annoitation.csv')\n",
    "       .split_by_valid_func(validation_func)\n",
    "       .label_from_df(cols='tags',label_delim=' '))\n",
    "\n",
    "data = (src.transform(tfms, size=128)\n",
    "       .databunch(bs=256).normalize(imagenet_stats))"
   ]
  }
 ],
 "metadata": {
  "kernelspec": {
   "display_name": "Python 3",
   "language": "python",
   "name": "python3"
  },
  "language_info": {
   "codemirror_mode": {
    "name": "ipython",
    "version": 3
   },
   "file_extension": ".py",
   "mimetype": "text/x-python",
   "name": "python",
   "nbconvert_exporter": "python",
   "pygments_lexer": "ipython3",
   "version": "3.7.4"
  }
 },
 "nbformat": 4,
 "nbformat_minor": 5
}
