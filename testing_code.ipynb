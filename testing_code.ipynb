{
 "cells": [
  {
   "cell_type": "code",
   "execution_count": 1,
   "id": "chief-boutique",
   "metadata": {},
   "outputs": [],
   "source": [
    "%reload_ext autoreload\n",
    "%autoreload 2\n",
    "%matplotlib inline"
   ]
  },
  {
   "cell_type": "code",
   "execution_count": 66,
   "id": "cathedral-substitute",
   "metadata": {},
   "outputs": [],
   "source": [
    "import numpy as np\n",
    "import pandas as pd\n",
    "import cv2\n",
    "import os\n",
    "import torch\n",
    "import fastai\n",
    "from fastai import *\n",
    "from fastai.vision import *\n",
    "from fastai.vision.all import *\n",
    "import matplotlib.pyplot as plt\n",
    "pd.set_option('display.max_columns', 500)"
   ]
  },
  {
   "cell_type": "code",
   "execution_count": 64,
   "id": "caring-seafood",
   "metadata": {},
   "outputs": [
    {
     "name": "stdout",
     "output_type": "stream",
     "text": [
      "Requirement already satisfied: fastai in c:\\users\\faiz\\appdata\\local\\programs\\python\\python37\\lib\\site-packages (2.1.10)\n",
      "Collecting fastai\n",
      "  Using cached fastai-2.2.7-py3-none-any.whl (193 kB)\n",
      "Requirement already satisfied: pillow>6.0.0 in c:\\users\\faiz\\appdata\\local\\programs\\python\\python37\\lib\\site-packages (from fastai) (8.1.0)\n",
      "Requirement already satisfied: pyyaml in c:\\users\\faiz\\appdata\\local\\programs\\python\\python37\\lib\\site-packages (from fastai) (5.4.1)\n",
      "Collecting torch<1.8,>=1.7.0\n",
      "  Using cached torch-1.7.1-cp37-cp37m-win_amd64.whl (184.1 MB)\n",
      "Requirement already satisfied: scikit-learn in c:\\users\\faiz\\appdata\\local\\programs\\python\\python37\\lib\\site-packages (from fastai) (0.21.3)\n",
      "Requirement already satisfied: pip in c:\\users\\faiz\\appdata\\local\\programs\\python\\python37\\lib\\site-packages (from fastai) (21.0.1)\n",
      "Requirement already satisfied: scipy in c:\\users\\faiz\\appdata\\local\\programs\\python\\python37\\lib\\site-packages (from fastai) (1.3.1)\n",
      "Requirement already satisfied: fastcore<1.4,>=1.3.8 in c:\\users\\faiz\\appdata\\local\\programs\\python\\python37\\lib\\site-packages (from fastai) (1.3.19)\n",
      "Requirement already satisfied: matplotlib in c:\\users\\faiz\\appdata\\local\\programs\\python\\python37\\lib\\site-packages (from fastai) (3.1.1)\n",
      "Requirement already satisfied: packaging in c:\\users\\faiz\\appdata\\local\\programs\\python\\python37\\lib\\site-packages (from fastai) (20.9)\n",
      "Collecting spacy<3\n",
      "  Downloading spacy-2.3.5-cp37-cp37m-win_amd64.whl (9.5 MB)\n",
      "Collecting fastai\n",
      "  Using cached fastai-2.2.6-py3-none-any.whl (193 kB)\n",
      "  Using cached fastai-2.2.5-py3-none-any.whl (191 kB)\n",
      "Requirement already satisfied: spacy in c:\\users\\faiz\\appdata\\local\\programs\\python\\python37\\lib\\site-packages (from fastai) (3.0.5)\n",
      "  Using cached fastai-2.2.4-py3-none-any.whl (191 kB)\n",
      "  Using cached fastai-2.2.3-py3-none-any.whl (191 kB)\n",
      "  Using cached fastai-2.2.2-py3-none-any.whl (191 kB)\n",
      "  Using cached fastai-2.2.1-py3-none-any.whl (191 kB)\n",
      "  Using cached fastai-2.2.0-py3-none-any.whl (191 kB)\n",
      "Requirement already satisfied: torchvision>=0.8 in c:\\users\\faiz\\appdata\\local\\programs\\python\\python37\\lib\\site-packages (from fastai) (0.9.0)\n",
      "Requirement already satisfied: torch>=1.7.0 in c:\\users\\faiz\\appdata\\local\\programs\\python\\python37\\lib\\site-packages (from fastai) (1.8.0)\n",
      "Requirement already satisfied: requests in c:\\users\\faiz\\appdata\\local\\programs\\python\\python37\\lib\\site-packages (from fastai) (2.25.1)\n",
      "Requirement already satisfied: pandas in c:\\users\\faiz\\appdata\\local\\programs\\python\\python37\\lib\\site-packages (from fastai) (0.25.0)\n",
      "Requirement already satisfied: fastprogress>=0.2.4 in c:\\users\\faiz\\appdata\\local\\programs\\python\\python37\\lib\\site-packages (from fastai) (1.0.0)\n",
      "Requirement already satisfied: numpy in c:\\users\\faiz\\appdata\\local\\programs\\python\\python37\\lib\\site-packages (from fastprogress>=0.2.4->fastai) (1.17.0)\n",
      "Requirement already satisfied: typing-extensions in c:\\users\\faiz\\appdata\\local\\programs\\python\\python37\\lib\\site-packages (from torch>=1.7.0->fastai) (3.7.4.3)\n",
      "Requirement already satisfied: pyparsing!=2.0.4,!=2.1.2,!=2.1.6,>=2.0.1 in c:\\users\\faiz\\appdata\\local\\programs\\python\\python37\\lib\\site-packages (from matplotlib->fastai) (2.4.2)\n",
      "Requirement already satisfied: python-dateutil>=2.1 in c:\\users\\faiz\\appdata\\local\\programs\\python\\python37\\lib\\site-packages (from matplotlib->fastai) (2.8.0)\n",
      "Requirement already satisfied: kiwisolver>=1.0.1 in c:\\users\\faiz\\appdata\\local\\programs\\python\\python37\\lib\\site-packages (from matplotlib->fastai) (1.1.0)\n",
      "Requirement already satisfied: cycler>=0.10 in c:\\users\\faiz\\appdata\\local\\programs\\python\\python37\\lib\\site-packages (from matplotlib->fastai) (0.10.0)\n",
      "Requirement already satisfied: six in c:\\users\\faiz\\appdata\\local\\programs\\python\\python37\\lib\\site-packages (from cycler>=0.10->matplotlib->fastai) (1.12.0)\n",
      "Requirement already satisfied: setuptools in c:\\users\\faiz\\appdata\\local\\programs\\python\\python37\\lib\\site-packages (from kiwisolver>=1.0.1->matplotlib->fastai) (40.8.0)\n",
      "Requirement already satisfied: pytz>=2017.2 in c:\\users\\faiz\\appdata\\local\\programs\\python\\python37\\lib\\site-packages (from pandas->fastai) (2019.1)\n",
      "Requirement already satisfied: urllib3<1.27,>=1.21.1 in c:\\users\\faiz\\appdata\\local\\programs\\python\\python37\\lib\\site-packages (from requests->fastai) (1.25.3)\n",
      "Requirement already satisfied: certifi>=2017.4.17 in c:\\users\\faiz\\appdata\\local\\programs\\python\\python37\\lib\\site-packages (from requests->fastai) (2020.12.5)\n",
      "Requirement already satisfied: idna<3,>=2.5 in c:\\users\\faiz\\appdata\\local\\programs\\python\\python37\\lib\\site-packages (from requests->fastai) (2.10)\n",
      "Requirement already satisfied: chardet<5,>=3.0.2 in c:\\users\\faiz\\appdata\\local\\programs\\python\\python37\\lib\\site-packages (from requests->fastai) (4.0.0)\n",
      "Requirement already satisfied: joblib>=0.11 in c:\\users\\faiz\\appdata\\local\\programs\\python\\python37\\lib\\site-packages (from scikit-learn->fastai) (0.13.2)\n",
      "Requirement already satisfied: murmurhash<1.1.0,>=0.28.0 in c:\\users\\faiz\\appdata\\local\\programs\\python\\python37\\lib\\site-packages (from spacy->fastai) (1.0.5)\n",
      "Requirement already satisfied: thinc<8.1.0,>=8.0.2 in c:\\users\\faiz\\appdata\\local\\programs\\python\\python37\\lib\\site-packages (from spacy->fastai) (8.0.2)\n",
      "Requirement already satisfied: pydantic<1.8.0,>=1.7.1 in c:\\users\\faiz\\appdata\\local\\programs\\python\\python37\\lib\\site-packages (from spacy->fastai) (1.7.3)\n",
      "Requirement already satisfied: cymem<2.1.0,>=2.0.2 in c:\\users\\faiz\\appdata\\local\\programs\\python\\python37\\lib\\site-packages (from spacy->fastai) (2.0.5)\n",
      "Requirement already satisfied: pathy>=0.3.5 in c:\\users\\faiz\\appdata\\local\\programs\\python\\python37\\lib\\site-packages (from spacy->fastai) (0.4.0)\n",
      "Requirement already satisfied: typer<0.4.0,>=0.3.0 in c:\\users\\faiz\\appdata\\local\\programs\\python\\python37\\lib\\site-packages (from spacy->fastai) (0.3.2)\n",
      "Requirement already satisfied: catalogue<2.1.0,>=2.0.1 in c:\\users\\faiz\\appdata\\local\\programs\\python\\python37\\lib\\site-packages (from spacy->fastai) (2.0.1)\n",
      "Requirement already satisfied: srsly<3.0.0,>=2.4.0 in c:\\users\\faiz\\appdata\\local\\programs\\python\\python37\\lib\\site-packages (from spacy->fastai) (2.4.0)\n",
      "Requirement already satisfied: spacy-legacy<3.1.0,>=3.0.0 in c:\\users\\faiz\\appdata\\local\\programs\\python\\python37\\lib\\site-packages (from spacy->fastai) (3.0.1)\n",
      "Requirement already satisfied: preshed<3.1.0,>=3.0.2 in c:\\users\\faiz\\appdata\\local\\programs\\python\\python37\\lib\\site-packages (from spacy->fastai) (3.0.5)\n",
      "Requirement already satisfied: tqdm<5.0.0,>=4.38.0 in c:\\users\\faiz\\appdata\\local\\programs\\python\\python37\\lib\\site-packages (from spacy->fastai) (4.59.0)\n",
      "Requirement already satisfied: wasabi<1.1.0,>=0.8.1 in c:\\users\\faiz\\appdata\\local\\programs\\python\\python37\\lib\\site-packages (from spacy->fastai) (0.8.2)\n",
      "Requirement already satisfied: jinja2 in c:\\users\\faiz\\appdata\\local\\programs\\python\\python37\\lib\\site-packages (from spacy->fastai) (2.11.3)\n",
      "Requirement already satisfied: importlib-metadata>=0.20 in c:\\users\\faiz\\appdata\\local\\programs\\python\\python37\\lib\\site-packages (from spacy->fastai) (3.7.2)\n",
      "Requirement already satisfied: blis<0.8.0,>=0.4.0 in c:\\users\\faiz\\appdata\\local\\programs\\python\\python37\\lib\\site-packages (from spacy->fastai) (0.7.4)\n",
      "Requirement already satisfied: zipp>=0.5 in c:\\users\\faiz\\appdata\\local\\programs\\python\\python37\\lib\\site-packages (from importlib-metadata>=0.20->spacy->fastai) (3.4.1)\n",
      "Requirement already satisfied: smart-open<4.0.0,>=2.2.0 in c:\\users\\faiz\\appdata\\local\\programs\\python\\python37\\lib\\site-packages (from pathy>=0.3.5->spacy->fastai) (3.0.0)\n",
      "Requirement already satisfied: click<7.2.0,>=7.1.1 in c:\\users\\faiz\\appdata\\local\\programs\\python\\python37\\lib\\site-packages (from typer<0.4.0,>=0.3.0->spacy->fastai) (7.1.2)\n",
      "Requirement already satisfied: MarkupSafe>=0.23 in c:\\users\\faiz\\appdata\\local\\programs\\python\\python37\\lib\\site-packages (from jinja2->spacy->fastai) (1.1.1)\n"
     ]
    }
   ],
   "source": [
    "!pip install fastai --upgrade"
   ]
  },
  {
   "cell_type": "code",
   "execution_count": 32,
   "id": "intense-glance",
   "metadata": {},
   "outputs": [],
   "source": [
    "path = Path('./data/faces')\n",
    "output_path = './data/testing'"
   ]
  },
  {
   "cell_type": "code",
   "execution_count": 33,
   "id": "signed-flour",
   "metadata": {},
   "outputs": [],
   "source": [
    "df = pd.read_csv(path/'../../datasets/labels.csv')"
   ]
  },
  {
   "cell_type": "code",
   "execution_count": 34,
   "id": "neutral-amateur",
   "metadata": {},
   "outputs": [],
   "source": [
    "dls = ImageDataLoaders.from_df(df, path, label_delim=' ',\n",
    "                               item_tfms=Resize(460), batch_tfms=aug_transforms(size=224),num_workers=0)"
   ]
  },
  {
   "cell_type": "code",
   "execution_count": 38,
   "id": "separate-glasgow",
   "metadata": {},
   "outputs": [
    {
     "data": {
      "text/plain": [
       "<fastai.learner.Learner at 0x2a010f42448>"
      ]
     },
     "execution_count": 38,
     "metadata": {},
     "output_type": "execute_result"
    }
   ],
   "source": [
    "# Loading our model\n",
    "learn = cnn_learner(dls, models.resnet50, pretrained=False)\n",
    "learn.load(\"ff_stage-2-rn50\")"
   ]
  },
  {
   "cell_type": "code",
   "execution_count": 42,
   "id": "painful-uniform",
   "metadata": {},
   "outputs": [],
   "source": [
    " face_cascade = cv2.CascadeClassifier(\"haarcascade_frontalface_default.xml\")"
   ]
  },
  {
   "cell_type": "code",
   "execution_count": 100,
   "id": "acute-compound",
   "metadata": {},
   "outputs": [
    {
     "data": {
      "application/vnd.jupyter.widget-view+json": {
       "model_id": "d65e609ad9f4491987ec2b2fd2027a18",
       "version_major": 2,
       "version_minor": 0
      },
      "text/plain": [
       "  0%|          | 0/5 [00:00<?, ?it/s]"
      ]
     },
     "metadata": {},
     "output_type": "display_data"
    },
    {
     "data": {
      "text/html": [],
      "text/plain": [
       "<IPython.core.display.HTML object>"
      ]
     },
     "metadata": {},
     "output_type": "display_data"
    },
    {
     "name": "stdout",
     "output_type": "stream",
     "text": [
      "['black', 'has_thick_hair', 'no_freakles', 'no_glasses', 'no_wrinkles']\n"
     ]
    },
    {
     "data": {
      "text/html": [],
      "text/plain": [
       "<IPython.core.display.HTML object>"
      ]
     },
     "metadata": {},
     "output_type": "display_data"
    },
    {
     "name": "stdout",
     "output_type": "stream",
     "text": [
      "['black', 'has_thick_hair', 'no_freakles', 'no_glasses', 'no_wrinkles']\n"
     ]
    },
    {
     "data": {
      "text/html": [],
      "text/plain": [
       "<IPython.core.display.HTML object>"
      ]
     },
     "metadata": {},
     "output_type": "display_data"
    },
    {
     "name": "stdout",
     "output_type": "stream",
     "text": [
      "['black', 'has_thick_hair', 'no_freakles', 'no_glasses', 'no_wrinkles']\n"
     ]
    },
    {
     "data": {
      "text/html": [],
      "text/plain": [
       "<IPython.core.display.HTML object>"
      ]
     },
     "metadata": {},
     "output_type": "display_data"
    },
    {
     "name": "stdout",
     "output_type": "stream",
     "text": [
      "['has_few_hairs', 'no_freakles', 'no_glasses', 'no_wrinkles', 'white']\n"
     ]
    },
    {
     "data": {
      "text/html": [],
      "text/plain": [
       "<IPython.core.display.HTML object>"
      ]
     },
     "metadata": {},
     "output_type": "display_data"
    },
    {
     "name": "stdout",
     "output_type": "stream",
     "text": [
      "['black', 'has_thick_hair', 'no_freakles', 'no_glasses', 'no_wrinkles']\n"
     ]
    }
   ],
   "source": [
    "import glob\n",
    "import imutils\n",
    "from tqdm.notebook import tqdm\n",
    "from fastai.vision import *\n",
    "itemlist = glob.glob('./data/testing/*.jpg')\n",
    "fc = face_cascade\n",
    "outputs = []\n",
    "wrinkles = [\"no_wrinkles\",\"wrinkles\"]\n",
    "freakles = [\"no_freakles\",\"freakles\"]\n",
    "glasses = [\"no_glasses\",\"normal_glasses\",\"sunglasses\"]\n",
    "hair_color = [\"brown\",\"black\",\"gray\",\"blond\",\"red\",\"white\",\"mixed\",\"other\"]\n",
    "top = [\"bald_or_shaved\",\"has_few_hairs\",\"has_thick_hair\",\" \"]\n",
    "for item in tqdm(itemlist):\n",
    "     ## Importing image using open cv\n",
    "    img = cv2.imread(item)\n",
    "    ## Resizing to constant width\n",
    "    img = imutils.resize(img, width=200)\n",
    "    \n",
    "    ## Finding actual size of image\n",
    "    H,W,_ = img.shape\n",
    "    \n",
    "    ## Converting BGR to RGB\n",
    "    gray = cv2.cvtColor(img, cv2.COLOR_BGR2GRAY)\n",
    "    \n",
    "    ## Detecting faces on the image\n",
    "    face_coord = fc.detectMultiScale(gray,1.2,10,minSize=(50,50))\n",
    "    \n",
    "    ## If only one face is found\n",
    "    if len(face_coord) == 1:\n",
    "        X, Y, w, h = face_coord[0]\n",
    "    \n",
    "    ## If no face found --> SKIP\n",
    "    elif len(face_coord)==0:\n",
    "        continue\n",
    "    \n",
    "    ## If multiple faces are found take the one with largest area\n",
    "    else:\n",
    "        max_val = 0\n",
    "        max_idx = 0\n",
    "        for idx in range(len(face_coord)):\n",
    "            _, _, w_i, h_i = face_coord[idx]\n",
    "            if w_i*h_i > max_val:\n",
    "                max_idx = idx\n",
    "                max_val = w_i*h_i\n",
    "            else:\n",
    "                pass\n",
    "            \n",
    "            X, Y, w, h = face_coord[max_idx]\n",
    "    \n",
    "    ## Crop and export the image\n",
    "    img_cp = img[\n",
    "            max(0,Y - int(0.35*h)): min(Y + int(1.35*h), H),\n",
    "            max(0,X - int(w*0.35)): min(X + int(1.35*w), W)\n",
    "        ].copy()\n",
    "    ## Prediction of facial featues\n",
    "    temp = []\n",
    "    img_fastai = torch.from_numpy(np.array(img_cp,copy = False))\n",
    "    prediction = str(\n",
    "        learn.predict(img_fastai)[0]\n",
    "    ).split(\";\")[0]\n",
    "    cnt = 0\n",
    "    #print(item)\n",
    "    temp.append(item.split('\\\\')[1])\n",
    "    for item in wrinkles:\n",
    "        if item in prediction:\n",
    "            temp.append(cnt)\n",
    "            break\n",
    "        cnt+=1\n",
    "    cnt = 0\n",
    "    for item in freakles:\n",
    "        if item in prediction:\n",
    "            temp.append(cnt)\n",
    "            break\n",
    "        cnt+=1\n",
    "    cnt = 0\n",
    "    for item in glasses:\n",
    "        if item in prediction:\n",
    "            temp.append(cnt)\n",
    "            break\n",
    "        cnt+=1\n",
    "    cnt = 0\n",
    "    for item in hair_color:\n",
    "        if item in prediction:\n",
    "            temp.append(cnt)\n",
    "            break\n",
    "        cnt+=1\n",
    "    cnt = 0\n",
    "    for item in top:\n",
    "        if item in prediction:\n",
    "            temp.append(cnt)\n",
    "            break\n",
    "        cnt+=1\n",
    "    outputs.append(temp)\n",
    "    print(prediction)\n",
    "headers = [\"image_name\",\"wrinkles\",\"freakles\",\"glasses\",\"hair_color\",\"hair_top\"]\n",
    "pd.DataFrame(outputs).to_csv(\"output.csv\",header = headers , index = None)"
   ]
  },
  {
   "cell_type": "code",
   "execution_count": null,
   "id": "affecting-inclusion",
   "metadata": {},
   "outputs": [],
   "source": []
  }
 ],
 "metadata": {
  "kernelspec": {
   "display_name": "Python 3",
   "language": "python",
   "name": "python3"
  },
  "language_info": {
   "codemirror_mode": {
    "name": "ipython",
    "version": 3
   },
   "file_extension": ".py",
   "mimetype": "text/x-python",
   "name": "python",
   "nbconvert_exporter": "python",
   "pygments_lexer": "ipython3",
   "version": "3.7.4"
  }
 },
 "nbformat": 4,
 "nbformat_minor": 5
}
